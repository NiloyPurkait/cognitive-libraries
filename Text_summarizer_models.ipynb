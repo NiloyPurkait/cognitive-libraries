{
  "nbformat": 4,
  "nbformat_minor": 0,
  "metadata": {
    "kernelspec": {
      "language": "python",
      "display_name": "Python 3",
      "name": "python3"
    },
    "language_info": {
      "pygments_lexer": "ipython3",
      "nbconvert_exporter": "python",
      "version": "3.6.4",
      "file_extension": ".py",
      "codemirror_mode": {
        "name": "ipython",
        "version": 3
      },
      "name": "python",
      "mimetype": "text/x-python"
    },
    "colab": {
      "name": "Text summarizer models.ipynb",
      "provenance": []
    }
  },
  "cells": [
    {
      "cell_type": "markdown",
      "metadata": {
        "id": "V7Gal86ZohcR",
        "colab_type": "text"
      },
      "source": [
        "Text summarization is an approach that shortens long pieces of information into a shorter version. From this notebook, you will find how easy it is to generate a summarized text with just a couple lines of code. This is a subtask of my [original](https://www.kaggle.com/latong/text-summarization-ner-exploration) work. Note: The data is imported from this kernel([paringData](https://www.kaggle.com/latong/parsedata/)). When doing summarization tasks, please do not remove punctuations from the texts. For comparison, I am going to apply the following methods:\n",
        "\n",
        "* [Bert-extractive-summarizer](https://pypi.org/project/bert-extractive-summarizer/)\n",
        "* GPT2 text summarizer\n",
        "* XL text summarizer\n",
        "* [Bart text summarizer](https://github.com/pytorch/fairseq/tree/master/examples/bart)\n",
        "\n",
        "The length of generated texts is set to min_length=50 and max_length=100."
      ]
    },
    {
      "cell_type": "code",
      "metadata": {
        "_uuid": "8f2839f25d086af736a60e9eeb907d3b93b6e0e5",
        "_cell_guid": "b1076dfc-b9ad-4769-8c92-a6c4dae69d19",
        "trusted": true,
        "id": "xcEnhKt0ohcU",
        "colab_type": "code",
        "colab": {
          "base_uri": "https://localhost:8080/",
          "height": 51
        },
        "outputId": "ebea0259-1f11-4ad5-bc51-0cb81b7ae37d"
      },
      "source": [
        "import numpy as np # linear algebra\n",
        "import pandas as pd # data processing, CSV file I/O (e.g. pd.read_csv)\n",
        "import json\n",
        "import glob\n",
        "import sys\n",
        "import matplotlib.pyplot as plt\n",
        "import seaborn as sns\n",
        "from  collections import OrderedDict\n",
        "\n",
        "\n",
        "# Input data files are available in the \"../input/\" directory.\n",
        "# For example, running this (by clicking run or pressing Shift+Enter) will list all files under the input directory\n",
        "\n",
        "import os"
      ],
      "execution_count": 1,
      "outputs": [
        {
          "output_type": "stream",
          "text": [
            "/usr/local/lib/python3.6/dist-packages/statsmodels/tools/_testing.py:19: FutureWarning: pandas.util.testing is deprecated. Use the functions in the public API at pandas.testing instead.\n",
            "  import pandas.util.testing as tm\n"
          ],
          "name": "stderr"
        }
      ]
    },
    {
      "cell_type": "code",
      "metadata": {
        "trusted": true,
        "id": "RKpVJz86ohcf",
        "colab_type": "code",
        "colab": {}
      },
      "source": [
        "df=pd.read_csv(\"/kaggle/input/corowp/coroWP.csv\")\n",
        "df.head()"
      ],
      "execution_count": null,
      "outputs": []
    },
    {
      "cell_type": "code",
      "metadata": {
        "_kg_hide-output": true,
        "trusted": true,
        "id": "2b03mcL_ohcp",
        "colab_type": "code",
        "colab": {}
      },
      "source": [
        "!pip install bert-extractive-summarizer"
      ],
      "execution_count": null,
      "outputs": []
    },
    {
      "cell_type": "code",
      "metadata": {
        "trusted": true,
        "id": "gbOVjHWtohcz",
        "colab_type": "code",
        "colab": {}
      },
      "source": [
        "body=df['text_body'][0]"
      ],
      "execution_count": null,
      "outputs": []
    },
    {
      "cell_type": "markdown",
      "metadata": {
        "id": "1q3C8HXkohc7",
        "colab_type": "text"
      },
      "source": [
        "**Bert Text Summarization**"
      ]
    },
    {
      "cell_type": "code",
      "metadata": {
        "trusted": true,
        "id": "pCSNEab3ohc9",
        "colab_type": "code",
        "colab": {}
      },
      "source": [
        "from summarizer import Summarizer\n",
        "model = Summarizer()\n",
        "result = model(body, min_length=50,max_length=100)\n",
        "full0 = ''.join(result)\n"
      ],
      "execution_count": null,
      "outputs": []
    },
    {
      "cell_type": "code",
      "metadata": {
        "trusted": true,
        "id": "DHpW6mTuohdD",
        "colab_type": "code",
        "colab": {}
      },
      "source": [
        "print(full0)"
      ],
      "execution_count": null,
      "outputs": []
    },
    {
      "cell_type": "markdown",
      "metadata": {
        "id": "ux2Dp1bBohdI",
        "colab_type": "text"
      },
      "source": [
        "**GPT2 Text Summarization**"
      ]
    },
    {
      "cell_type": "code",
      "metadata": {
        "trusted": true,
        "_kg_hide-output": true,
        "id": "8t-vyLw5ohdJ",
        "colab_type": "code",
        "colab": {}
      },
      "source": [
        "#GPT2\n",
        "body=df['text_body'][0]\n",
        "from summarizer import Summarizer,TransformerSummarizer\n",
        "GPT2_model = TransformerSummarizer(transformer_type=\"GPT2\",transformer_model_key=\"gpt2-medium\")\n",
        "full = ''.join(GPT2_model(body, min_length=50, max_length=100))"
      ],
      "execution_count": null,
      "outputs": []
    },
    {
      "cell_type": "code",
      "metadata": {
        "trusted": true,
        "id": "y4IZXfLdohdQ",
        "colab_type": "code",
        "colab": {}
      },
      "source": [
        "print(full)"
      ],
      "execution_count": null,
      "outputs": []
    },
    {
      "cell_type": "markdown",
      "metadata": {
        "id": "fPM-saIZohdV",
        "colab_type": "text"
      },
      "source": [
        "**XLNet Text Summarization**"
      ]
    },
    {
      "cell_type": "code",
      "metadata": {
        "trusted": true,
        "id": "YIiHS9KrohdW",
        "colab_type": "code",
        "colab": {}
      },
      "source": [
        "model = TransformerSummarizer(transformer_type=\"XLNet\",transformer_model_key=\"xlnet-base-cased\")\n",
        "full2 = ''.join(model(body, min_length=60,max_length=100))"
      ],
      "execution_count": null,
      "outputs": []
    },
    {
      "cell_type": "code",
      "metadata": {
        "trusted": true,
        "id": "tS1xc9HLohdb",
        "colab_type": "code",
        "colab": {}
      },
      "source": [
        "print(full2)"
      ],
      "execution_count": null,
      "outputs": []
    },
    {
      "cell_type": "markdown",
      "metadata": {
        "id": "51-0sYb1ohdg",
        "colab_type": "text"
      },
      "source": [
        "**Bart Text Summarization**"
      ]
    },
    {
      "cell_type": "code",
      "metadata": {
        "trusted": true,
        "_kg_hide-output": true,
        "id": "vBqj9Goeohdh",
        "colab_type": "code",
        "colab": {}
      },
      "source": [
        "# load BART summarizer\n",
        "import transformers\n",
        "import torch\n",
        "from transformers import BartTokenizer, BartForConditionalGeneration\n",
        "torch_device = 'cuda' if torch.cuda.is_available() else 'cpu'\n",
        "model = BartForConditionalGeneration.from_pretrained('bart-large-cnn')\n",
        "tokenizer = BartTokenizer.from_pretrained('bart-large-cnn')\n",
        "from transformers import pipeline\n",
        "summarizer = pipeline(task=\"summarization\")"
      ],
      "execution_count": null,
      "outputs": []
    },
    {
      "cell_type": "code",
      "metadata": {
        "trusted": true,
        "id": "nXMTxkI5ohdp",
        "colab_type": "code",
        "colab": {}
      },
      "source": [
        "summary = summarizer(body, min_length=60, max_length=100)\n",
        "print (summary)"
      ],
      "execution_count": null,
      "outputs": []
    },
    {
      "cell_type": "markdown",
      "metadata": {
        "id": "U84WwPa4ohdu",
        "colab_type": "text"
      },
      "source": [
        "**Original Text**"
      ]
    },
    {
      "cell_type": "code",
      "metadata": {
        "trusted": true,
        "id": "nkxOyOyLohdv",
        "colab_type": "code",
        "colab": {}
      },
      "source": [
        "print(df['summary'][0])"
      ],
      "execution_count": null,
      "outputs": []
    }
  ]
}