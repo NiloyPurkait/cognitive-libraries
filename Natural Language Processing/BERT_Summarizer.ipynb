{
  "nbformat": 4,
  "nbformat_minor": 0,
  "metadata": {
    "colab": {
      "name": "BERT Summarizer.ipynb",
      "provenance": [],
      "collapsed_sections": [],
      "authorship_tag": "ABX9TyMCslGkRbW1eEJ3ouJ2WTUK",
      "include_colab_link": true
    },
    "kernelspec": {
      "name": "python3",
      "display_name": "Python 3"
    }
  },
  "cells": [
    {
      "cell_type": "markdown",
      "metadata": {
        "id": "view-in-github",
        "colab_type": "text"
      },
      "source": [
        "<a href=\"https://colab.research.google.com/github/NiloyPurkait/cognitive-libraries/blob/master/Natural%20Language%20Processing/BERT_Summarizer.ipynb\" target=\"_parent\"><img src=\"https://colab.research.google.com/assets/colab-badge.svg\" alt=\"Open In Colab\"/></a>"
      ]
    },
    {
      "cell_type": "markdown",
      "metadata": {
        "id": "1vbqtKEVZe0b",
        "colab_type": "text"
      },
      "source": [
        "## Bert Extractive Summarizer"
      ]
    },
    {
      "cell_type": "code",
      "metadata": {
        "id": "-eZNQ7HKZhJ3",
        "colab_type": "code",
        "colab": {
          "base_uri": "https://localhost:8080/",
          "height": 935
        },
        "outputId": "c88aad88-87e6-4d54-caed-0484c0afc84f"
      },
      "source": [
        "! pip install bert-extractive-summarizer"
      ],
      "execution_count": 1,
      "outputs": [
        {
          "output_type": "stream",
          "text": [
            "Collecting bert-extractive-summarizer\n",
            "  Downloading https://files.pythonhosted.org/packages/e9/f3/b0cb3328d9fa41e5f430f491f6558ada4366190a38ce91bbb881195492d7/bert-extractive-summarizer-0.5.0.tar.gz\n",
            "Collecting transformers\n",
            "\u001b[?25l  Downloading https://files.pythonhosted.org/packages/ae/05/c8c55b600308dc04e95100dc8ad8a244dd800fe75dfafcf1d6348c6f6209/transformers-3.1.0-py3-none-any.whl (884kB)\n",
            "\u001b[K     |████████████████████████████████| 890kB 4.5MB/s \n",
            "\u001b[?25hRequirement already satisfied: scikit-learn in /usr/local/lib/python3.6/dist-packages (from bert-extractive-summarizer) (0.22.2.post1)\n",
            "Requirement already satisfied: spacy in /usr/local/lib/python3.6/dist-packages (from bert-extractive-summarizer) (2.2.4)\n",
            "Requirement already satisfied: numpy in /usr/local/lib/python3.6/dist-packages (from transformers->bert-extractive-summarizer) (1.18.5)\n",
            "Requirement already satisfied: requests in /usr/local/lib/python3.6/dist-packages (from transformers->bert-extractive-summarizer) (2.23.0)\n",
            "Collecting tokenizers==0.8.1.rc2\n",
            "\u001b[?25l  Downloading https://files.pythonhosted.org/packages/80/83/8b9fccb9e48eeb575ee19179e2bdde0ee9a1904f97de5f02d19016b8804f/tokenizers-0.8.1rc2-cp36-cp36m-manylinux1_x86_64.whl (3.0MB)\n",
            "\u001b[K     |████████████████████████████████| 3.0MB 17.4MB/s \n",
            "\u001b[?25hCollecting sentencepiece!=0.1.92\n",
            "\u001b[?25l  Downloading https://files.pythonhosted.org/packages/d4/a4/d0a884c4300004a78cca907a6ff9a5e9fe4f090f5d95ab341c53d28cbc58/sentencepiece-0.1.91-cp36-cp36m-manylinux1_x86_64.whl (1.1MB)\n",
            "\u001b[K     |████████████████████████████████| 1.1MB 35.8MB/s \n",
            "\u001b[?25hRequirement already satisfied: filelock in /usr/local/lib/python3.6/dist-packages (from transformers->bert-extractive-summarizer) (3.0.12)\n",
            "Requirement already satisfied: packaging in /usr/local/lib/python3.6/dist-packages (from transformers->bert-extractive-summarizer) (20.4)\n",
            "Requirement already satisfied: tqdm>=4.27 in /usr/local/lib/python3.6/dist-packages (from transformers->bert-extractive-summarizer) (4.41.1)\n",
            "Requirement already satisfied: regex!=2019.12.17 in /usr/local/lib/python3.6/dist-packages (from transformers->bert-extractive-summarizer) (2019.12.20)\n",
            "Requirement already satisfied: dataclasses; python_version < \"3.7\" in /usr/local/lib/python3.6/dist-packages (from transformers->bert-extractive-summarizer) (0.7)\n",
            "Collecting sacremoses\n",
            "\u001b[?25l  Downloading https://files.pythonhosted.org/packages/7d/34/09d19aff26edcc8eb2a01bed8e98f13a1537005d31e95233fd48216eed10/sacremoses-0.0.43.tar.gz (883kB)\n",
            "\u001b[K     |████████████████████████████████| 890kB 46.9MB/s \n",
            "\u001b[?25hRequirement already satisfied: joblib>=0.11 in /usr/local/lib/python3.6/dist-packages (from scikit-learn->bert-extractive-summarizer) (0.16.0)\n",
            "Requirement already satisfied: scipy>=0.17.0 in /usr/local/lib/python3.6/dist-packages (from scikit-learn->bert-extractive-summarizer) (1.4.1)\n",
            "Requirement already satisfied: cymem<2.1.0,>=2.0.2 in /usr/local/lib/python3.6/dist-packages (from spacy->bert-extractive-summarizer) (2.0.3)\n",
            "Requirement already satisfied: srsly<1.1.0,>=1.0.2 in /usr/local/lib/python3.6/dist-packages (from spacy->bert-extractive-summarizer) (1.0.2)\n",
            "Requirement already satisfied: setuptools in /usr/local/lib/python3.6/dist-packages (from spacy->bert-extractive-summarizer) (49.6.0)\n",
            "Requirement already satisfied: murmurhash<1.1.0,>=0.28.0 in /usr/local/lib/python3.6/dist-packages (from spacy->bert-extractive-summarizer) (1.0.2)\n",
            "Requirement already satisfied: blis<0.5.0,>=0.4.0 in /usr/local/lib/python3.6/dist-packages (from spacy->bert-extractive-summarizer) (0.4.1)\n",
            "Requirement already satisfied: plac<1.2.0,>=0.9.6 in /usr/local/lib/python3.6/dist-packages (from spacy->bert-extractive-summarizer) (1.1.3)\n",
            "Requirement already satisfied: preshed<3.1.0,>=3.0.2 in /usr/local/lib/python3.6/dist-packages (from spacy->bert-extractive-summarizer) (3.0.2)\n",
            "Requirement already satisfied: thinc==7.4.0 in /usr/local/lib/python3.6/dist-packages (from spacy->bert-extractive-summarizer) (7.4.0)\n",
            "Requirement already satisfied: wasabi<1.1.0,>=0.4.0 in /usr/local/lib/python3.6/dist-packages (from spacy->bert-extractive-summarizer) (0.7.1)\n",
            "Requirement already satisfied: catalogue<1.1.0,>=0.0.7 in /usr/local/lib/python3.6/dist-packages (from spacy->bert-extractive-summarizer) (1.0.0)\n",
            "Requirement already satisfied: certifi>=2017.4.17 in /usr/local/lib/python3.6/dist-packages (from requests->transformers->bert-extractive-summarizer) (2020.6.20)\n",
            "Requirement already satisfied: urllib3!=1.25.0,!=1.25.1,<1.26,>=1.21.1 in /usr/local/lib/python3.6/dist-packages (from requests->transformers->bert-extractive-summarizer) (1.24.3)\n",
            "Requirement already satisfied: idna<3,>=2.5 in /usr/local/lib/python3.6/dist-packages (from requests->transformers->bert-extractive-summarizer) (2.10)\n",
            "Requirement already satisfied: chardet<4,>=3.0.2 in /usr/local/lib/python3.6/dist-packages (from requests->transformers->bert-extractive-summarizer) (3.0.4)\n",
            "Requirement already satisfied: six in /usr/local/lib/python3.6/dist-packages (from packaging->transformers->bert-extractive-summarizer) (1.15.0)\n",
            "Requirement already satisfied: pyparsing>=2.0.2 in /usr/local/lib/python3.6/dist-packages (from packaging->transformers->bert-extractive-summarizer) (2.4.7)\n",
            "Requirement already satisfied: click in /usr/local/lib/python3.6/dist-packages (from sacremoses->transformers->bert-extractive-summarizer) (7.1.2)\n",
            "Requirement already satisfied: importlib-metadata>=0.20; python_version < \"3.8\" in /usr/local/lib/python3.6/dist-packages (from catalogue<1.1.0,>=0.0.7->spacy->bert-extractive-summarizer) (1.7.0)\n",
            "Requirement already satisfied: zipp>=0.5 in /usr/local/lib/python3.6/dist-packages (from importlib-metadata>=0.20; python_version < \"3.8\"->catalogue<1.1.0,>=0.0.7->spacy->bert-extractive-summarizer) (3.1.0)\n",
            "Building wheels for collected packages: bert-extractive-summarizer, sacremoses\n",
            "  Building wheel for bert-extractive-summarizer (setup.py) ... \u001b[?25l\u001b[?25hdone\n",
            "  Created wheel for bert-extractive-summarizer: filename=bert_extractive_summarizer-0.5.0-cp36-none-any.whl size=16417 sha256=af71d0b7b17841fd6cfed866fa09a3a24673633a9b405d7df41b1e80f26b1ed4\n",
            "  Stored in directory: /root/.cache/pip/wheels/4c/89/f7/13d71ca6b8e825191f2c5bfbe91f425cf12d2eeca07935cf13\n",
            "  Building wheel for sacremoses (setup.py) ... \u001b[?25l\u001b[?25hdone\n",
            "  Created wheel for sacremoses: filename=sacremoses-0.0.43-cp36-none-any.whl size=893257 sha256=2fa35163b378f46f2177bd89bac2c9eadd837ea04f5e18b9038864265cdff0ff\n",
            "  Stored in directory: /root/.cache/pip/wheels/29/3c/fd/7ce5c3f0666dab31a50123635e6fb5e19ceb42ce38d4e58f45\n",
            "Successfully built bert-extractive-summarizer sacremoses\n",
            "Installing collected packages: tokenizers, sentencepiece, sacremoses, transformers, bert-extractive-summarizer\n",
            "Successfully installed bert-extractive-summarizer-0.5.0 sacremoses-0.0.43 sentencepiece-0.1.91 tokenizers-0.8.1rc2 transformers-3.1.0\n"
          ],
          "name": "stdout"
        }
      ]
    },
    {
      "cell_type": "code",
      "metadata": {
        "id": "3IgHXnvyZknz",
        "colab_type": "code",
        "colab": {
          "base_uri": "https://localhost:8080/",
          "height": 765
        },
        "outputId": "d7192290-4864-4609-fd96-6eb2723a70ec"
      },
      "source": [
        "! pip install spacy==2.1.3\n"
      ],
      "execution_count": 2,
      "outputs": [
        {
          "output_type": "stream",
          "text": [
            "Collecting spacy==2.1.3\n",
            "\u001b[?25l  Downloading https://files.pythonhosted.org/packages/52/da/3a1c54694c2d2f40df82f38a19ae14c6eb24a5a1a0dae87205ebea7a84d8/spacy-2.1.3-cp36-cp36m-manylinux1_x86_64.whl (27.7MB)\n",
            "\u001b[K     |████████████████████████████████| 27.7MB 144kB/s \n",
            "\u001b[?25hCollecting thinc<7.1.0,>=7.0.2\n",
            "\u001b[?25l  Downloading https://files.pythonhosted.org/packages/18/a5/9ace20422e7bb1bdcad31832ea85c52a09900cd4a7ce711246bfb92206ba/thinc-7.0.8-cp36-cp36m-manylinux1_x86_64.whl (2.1MB)\n",
            "\u001b[K     |████████████████████████████████| 2.1MB 38.2MB/s \n",
            "\u001b[?25hRequirement already satisfied: srsly<1.1.0,>=0.0.5 in /usr/local/lib/python3.6/dist-packages (from spacy==2.1.3) (1.0.2)\n",
            "Collecting plac<1.0.0,>=0.9.6\n",
            "  Downloading https://files.pythonhosted.org/packages/9e/9b/62c60d2f5bc135d2aa1d8c8a86aaf84edb719a59c7f11a4316259e61a298/plac-0.9.6-py2.py3-none-any.whl\n",
            "Collecting blis<0.3.0,>=0.2.2\n",
            "\u001b[?25l  Downloading https://files.pythonhosted.org/packages/34/46/b1d0bb71d308e820ed30316c5f0a017cb5ef5f4324bcbc7da3cf9d3b075c/blis-0.2.4-cp36-cp36m-manylinux1_x86_64.whl (3.2MB)\n",
            "\u001b[K     |████████████████████████████████| 3.2MB 41.6MB/s \n",
            "\u001b[?25hCollecting preshed<2.1.0,>=2.0.1\n",
            "\u001b[?25l  Downloading https://files.pythonhosted.org/packages/20/93/f222fb957764a283203525ef20e62008675fd0a14ffff8cc1b1490147c63/preshed-2.0.1-cp36-cp36m-manylinux1_x86_64.whl (83kB)\n",
            "\u001b[K     |████████████████████████████████| 92kB 9.5MB/s \n",
            "\u001b[?25hRequirement already satisfied: murmurhash<1.1.0,>=0.28.0 in /usr/local/lib/python3.6/dist-packages (from spacy==2.1.3) (1.0.2)\n",
            "Requirement already satisfied: wasabi<1.1.0,>=0.2.0 in /usr/local/lib/python3.6/dist-packages (from spacy==2.1.3) (0.7.1)\n",
            "Requirement already satisfied: numpy>=1.15.0 in /usr/local/lib/python3.6/dist-packages (from spacy==2.1.3) (1.18.5)\n",
            "Requirement already satisfied: cymem<2.1.0,>=2.0.2 in /usr/local/lib/python3.6/dist-packages (from spacy==2.1.3) (2.0.3)\n",
            "Requirement already satisfied: jsonschema<3.0.0,>=2.6.0 in /usr/local/lib/python3.6/dist-packages (from spacy==2.1.3) (2.6.0)\n",
            "Requirement already satisfied: requests<3.0.0,>=2.13.0 in /usr/local/lib/python3.6/dist-packages (from spacy==2.1.3) (2.23.0)\n",
            "Requirement already satisfied: tqdm<5.0.0,>=4.10.0 in /usr/local/lib/python3.6/dist-packages (from thinc<7.1.0,>=7.0.2->spacy==2.1.3) (4.41.1)\n",
            "Requirement already satisfied: certifi>=2017.4.17 in /usr/local/lib/python3.6/dist-packages (from requests<3.0.0,>=2.13.0->spacy==2.1.3) (2020.6.20)\n",
            "Requirement already satisfied: chardet<4,>=3.0.2 in /usr/local/lib/python3.6/dist-packages (from requests<3.0.0,>=2.13.0->spacy==2.1.3) (3.0.4)\n",
            "Requirement already satisfied: idna<3,>=2.5 in /usr/local/lib/python3.6/dist-packages (from requests<3.0.0,>=2.13.0->spacy==2.1.3) (2.10)\n",
            "Requirement already satisfied: urllib3!=1.25.0,!=1.25.1,<1.26,>=1.21.1 in /usr/local/lib/python3.6/dist-packages (from requests<3.0.0,>=2.13.0->spacy==2.1.3) (1.24.3)\n",
            "\u001b[31mERROR: en-core-web-sm 2.2.5 has requirement spacy>=2.2.2, but you'll have spacy 2.1.3 which is incompatible.\u001b[0m\n",
            "Installing collected packages: plac, blis, preshed, thinc, spacy\n",
            "  Found existing installation: plac 1.1.3\n",
            "    Uninstalling plac-1.1.3:\n",
            "      Successfully uninstalled plac-1.1.3\n",
            "  Found existing installation: blis 0.4.1\n",
            "    Uninstalling blis-0.4.1:\n",
            "      Successfully uninstalled blis-0.4.1\n",
            "  Found existing installation: preshed 3.0.2\n",
            "    Uninstalling preshed-3.0.2:\n",
            "      Successfully uninstalled preshed-3.0.2\n",
            "  Found existing installation: thinc 7.4.0\n",
            "    Uninstalling thinc-7.4.0:\n",
            "      Successfully uninstalled thinc-7.4.0\n",
            "  Found existing installation: spacy 2.2.4\n",
            "    Uninstalling spacy-2.2.4:\n",
            "      Successfully uninstalled spacy-2.2.4\n",
            "Successfully installed blis-0.2.4 plac-0.9.6 preshed-2.0.1 spacy-2.1.3 thinc-7.0.8\n"
          ],
          "name": "stdout"
        }
      ]
    },
    {
      "cell_type": "code",
      "metadata": {
        "id": "lwrg2D4QZm0p",
        "colab_type": "code",
        "colab": {
          "base_uri": "https://localhost:8080/",
          "height": 476
        },
        "outputId": "a5684883-2dfa-4610-de9e-0518799e85c7"
      },
      "source": [
        "! pip install transformers==2.2.2\n"
      ],
      "execution_count": 3,
      "outputs": [
        {
          "output_type": "stream",
          "text": [
            "Collecting transformers==2.2.2\n",
            "\u001b[?25l  Downloading https://files.pythonhosted.org/packages/d1/08/4a6768ca1a7a4fa37e5ee08077c5d02b8d83876bd36caa5fc24d98992ac2/transformers-2.2.2-py3-none-any.whl (387kB)\n",
            "\r\u001b[K     |▉                               | 10kB 15.9MB/s eta 0:00:01\r\u001b[K     |█▊                              | 20kB 2.1MB/s eta 0:00:01\r\u001b[K     |██▌                             | 30kB 2.7MB/s eta 0:00:01\r\u001b[K     |███▍                            | 40kB 3.1MB/s eta 0:00:01\r\u001b[K     |████▎                           | 51kB 2.5MB/s eta 0:00:01\r\u001b[K     |█████                           | 61kB 2.7MB/s eta 0:00:01\r\u001b[K     |██████                          | 71kB 3.0MB/s eta 0:00:01\r\u001b[K     |██████▊                         | 81kB 3.3MB/s eta 0:00:01\r\u001b[K     |███████▋                        | 92kB 3.5MB/s eta 0:00:01\r\u001b[K     |████████▌                       | 102kB 3.4MB/s eta 0:00:01\r\u001b[K     |█████████▎                      | 112kB 3.4MB/s eta 0:00:01\r\u001b[K     |██████████▏                     | 122kB 3.4MB/s eta 0:00:01\r\u001b[K     |███████████                     | 133kB 3.4MB/s eta 0:00:01\r\u001b[K     |███████████▉                    | 143kB 3.4MB/s eta 0:00:01\r\u001b[K     |████████████▊                   | 153kB 3.4MB/s eta 0:00:01\r\u001b[K     |█████████████▌                  | 163kB 3.4MB/s eta 0:00:01\r\u001b[K     |██████████████▍                 | 174kB 3.4MB/s eta 0:00:01\r\u001b[K     |███████████████▏                | 184kB 3.4MB/s eta 0:00:01\r\u001b[K     |████████████████                | 194kB 3.4MB/s eta 0:00:01\r\u001b[K     |█████████████████               | 204kB 3.4MB/s eta 0:00:01\r\u001b[K     |█████████████████▊              | 215kB 3.4MB/s eta 0:00:01\r\u001b[K     |██████████████████▋             | 225kB 3.4MB/s eta 0:00:01\r\u001b[K     |███████████████████▌            | 235kB 3.4MB/s eta 0:00:01\r\u001b[K     |████████████████████▎           | 245kB 3.4MB/s eta 0:00:01\r\u001b[K     |█████████████████████▏          | 256kB 3.4MB/s eta 0:00:01\r\u001b[K     |██████████████████████          | 266kB 3.4MB/s eta 0:00:01\r\u001b[K     |██████████████████████▉         | 276kB 3.4MB/s eta 0:00:01\r\u001b[K     |███████████████████████▊        | 286kB 3.4MB/s eta 0:00:01\r\u001b[K     |████████████████████████▌       | 296kB 3.4MB/s eta 0:00:01\r\u001b[K     |█████████████████████████▍      | 307kB 3.4MB/s eta 0:00:01\r\u001b[K     |██████████████████████████▏     | 317kB 3.4MB/s eta 0:00:01\r\u001b[K     |███████████████████████████     | 327kB 3.4MB/s eta 0:00:01\r\u001b[K     |████████████████████████████    | 337kB 3.4MB/s eta 0:00:01\r\u001b[K     |████████████████████████████▊   | 348kB 3.4MB/s eta 0:00:01\r\u001b[K     |█████████████████████████████▋  | 358kB 3.4MB/s eta 0:00:01\r\u001b[K     |██████████████████████████████▍ | 368kB 3.4MB/s eta 0:00:01\r\u001b[K     |███████████████████████████████▎| 378kB 3.4MB/s eta 0:00:01\r\u001b[K     |████████████████████████████████| 389kB 3.4MB/s \n",
            "\u001b[?25hRequirement already satisfied: numpy in /usr/local/lib/python3.6/dist-packages (from transformers==2.2.2) (1.18.5)\n",
            "Requirement already satisfied: sentencepiece in /usr/local/lib/python3.6/dist-packages (from transformers==2.2.2) (0.1.91)\n",
            "Requirement already satisfied: sacremoses in /usr/local/lib/python3.6/dist-packages (from transformers==2.2.2) (0.0.43)\n",
            "Requirement already satisfied: regex in /usr/local/lib/python3.6/dist-packages (from transformers==2.2.2) (2019.12.20)\n",
            "Requirement already satisfied: requests in /usr/local/lib/python3.6/dist-packages (from transformers==2.2.2) (2.23.0)\n",
            "Requirement already satisfied: boto3 in /usr/local/lib/python3.6/dist-packages (from transformers==2.2.2) (1.14.48)\n",
            "Requirement already satisfied: tqdm in /usr/local/lib/python3.6/dist-packages (from transformers==2.2.2) (4.41.1)\n",
            "Requirement already satisfied: six in /usr/local/lib/python3.6/dist-packages (from sacremoses->transformers==2.2.2) (1.15.0)\n",
            "Requirement already satisfied: joblib in /usr/local/lib/python3.6/dist-packages (from sacremoses->transformers==2.2.2) (0.16.0)\n",
            "Requirement already satisfied: click in /usr/local/lib/python3.6/dist-packages (from sacremoses->transformers==2.2.2) (7.1.2)\n",
            "Requirement already satisfied: idna<3,>=2.5 in /usr/local/lib/python3.6/dist-packages (from requests->transformers==2.2.2) (2.10)\n",
            "Requirement already satisfied: chardet<4,>=3.0.2 in /usr/local/lib/python3.6/dist-packages (from requests->transformers==2.2.2) (3.0.4)\n",
            "Requirement already satisfied: certifi>=2017.4.17 in /usr/local/lib/python3.6/dist-packages (from requests->transformers==2.2.2) (2020.6.20)\n",
            "Requirement already satisfied: urllib3!=1.25.0,!=1.25.1,<1.26,>=1.21.1 in /usr/local/lib/python3.6/dist-packages (from requests->transformers==2.2.2) (1.24.3)\n",
            "Requirement already satisfied: botocore<1.18.0,>=1.17.48 in /usr/local/lib/python3.6/dist-packages (from boto3->transformers==2.2.2) (1.17.48)\n",
            "Requirement already satisfied: s3transfer<0.4.0,>=0.3.0 in /usr/local/lib/python3.6/dist-packages (from boto3->transformers==2.2.2) (0.3.3)\n",
            "Requirement already satisfied: jmespath<1.0.0,>=0.7.1 in /usr/local/lib/python3.6/dist-packages (from boto3->transformers==2.2.2) (0.10.0)\n",
            "Requirement already satisfied: docutils<0.16,>=0.10 in /usr/local/lib/python3.6/dist-packages (from botocore<1.18.0,>=1.17.48->boto3->transformers==2.2.2) (0.15.2)\n",
            "Requirement already satisfied: python-dateutil<3.0.0,>=2.1 in /usr/local/lib/python3.6/dist-packages (from botocore<1.18.0,>=1.17.48->boto3->transformers==2.2.2) (2.8.1)\n",
            "Installing collected packages: transformers\n",
            "  Found existing installation: transformers 3.1.0\n",
            "    Uninstalling transformers-3.1.0:\n",
            "      Successfully uninstalled transformers-3.1.0\n",
            "Successfully installed transformers-2.2.2\n"
          ],
          "name": "stdout"
        }
      ]
    },
    {
      "cell_type": "code",
      "metadata": {
        "id": "n9DLGUjIZm5t",
        "colab_type": "code",
        "colab": {
          "base_uri": "https://localhost:8080/",
          "height": 510
        },
        "outputId": "87ecce1a-7024-460e-d4aa-7d37c2370fab"
      },
      "source": [
        "! pip install neuralcoref\n"
      ],
      "execution_count": 4,
      "outputs": [
        {
          "output_type": "stream",
          "text": [
            "Collecting neuralcoref\n",
            "\u001b[?25l  Downloading https://files.pythonhosted.org/packages/ea/24/0ec7845a5b73b637aa691ff4d1b9b48f3a0f3369f4002a59ffd7a7462fdb/neuralcoref-4.0-cp36-cp36m-manylinux1_x86_64.whl (287kB)\n",
            "\r\u001b[K     |█▏                              | 10kB 15.3MB/s eta 0:00:01\r\u001b[K     |██▎                             | 20kB 2.1MB/s eta 0:00:01\r\u001b[K     |███▍                            | 30kB 2.6MB/s eta 0:00:01\r\u001b[K     |████▋                           | 40kB 3.1MB/s eta 0:00:01\r\u001b[K     |█████▊                          | 51kB 2.5MB/s eta 0:00:01\r\u001b[K     |██████▉                         | 61kB 2.7MB/s eta 0:00:01\r\u001b[K     |████████                        | 71kB 2.9MB/s eta 0:00:01\r\u001b[K     |█████████▏                      | 81kB 3.2MB/s eta 0:00:01\r\u001b[K     |██████████▎                     | 92kB 3.5MB/s eta 0:00:01\r\u001b[K     |███████████▍                    | 102kB 3.4MB/s eta 0:00:01\r\u001b[K     |████████████▌                   | 112kB 3.4MB/s eta 0:00:01\r\u001b[K     |█████████████▊                  | 122kB 3.4MB/s eta 0:00:01\r\u001b[K     |██████████████▉                 | 133kB 3.4MB/s eta 0:00:01\r\u001b[K     |████████████████                | 143kB 3.4MB/s eta 0:00:01\r\u001b[K     |█████████████████               | 153kB 3.4MB/s eta 0:00:01\r\u001b[K     |██████████████████▎             | 163kB 3.4MB/s eta 0:00:01\r\u001b[K     |███████████████████▍            | 174kB 3.4MB/s eta 0:00:01\r\u001b[K     |████████████████████▌           | 184kB 3.4MB/s eta 0:00:01\r\u001b[K     |█████████████████████▋          | 194kB 3.4MB/s eta 0:00:01\r\u001b[K     |██████████████████████▉         | 204kB 3.4MB/s eta 0:00:01\r\u001b[K     |████████████████████████        | 215kB 3.4MB/s eta 0:00:01\r\u001b[K     |█████████████████████████       | 225kB 3.4MB/s eta 0:00:01\r\u001b[K     |██████████████████████████▎     | 235kB 3.4MB/s eta 0:00:01\r\u001b[K     |███████████████████████████▍    | 245kB 3.4MB/s eta 0:00:01\r\u001b[K     |████████████████████████████▌   | 256kB 3.4MB/s eta 0:00:01\r\u001b[K     |█████████████████████████████▋  | 266kB 3.4MB/s eta 0:00:01\r\u001b[K     |██████████████████████████████▉ | 276kB 3.4MB/s eta 0:00:01\r\u001b[K     |████████████████████████████████| 286kB 3.4MB/s eta 0:00:01\r\u001b[K     |████████████████████████████████| 296kB 3.4MB/s \n",
            "\u001b[?25hRequirement already satisfied: numpy>=1.15.0 in /usr/local/lib/python3.6/dist-packages (from neuralcoref) (1.18.5)\n",
            "Requirement already satisfied: spacy>=2.1.0 in /usr/local/lib/python3.6/dist-packages (from neuralcoref) (2.1.3)\n",
            "Requirement already satisfied: requests<3.0.0,>=2.13.0 in /usr/local/lib/python3.6/dist-packages (from neuralcoref) (2.23.0)\n",
            "Requirement already satisfied: boto3 in /usr/local/lib/python3.6/dist-packages (from neuralcoref) (1.14.48)\n",
            "Requirement already satisfied: srsly<1.1.0,>=0.0.5 in /usr/local/lib/python3.6/dist-packages (from spacy>=2.1.0->neuralcoref) (1.0.2)\n",
            "Requirement already satisfied: cymem<2.1.0,>=2.0.2 in /usr/local/lib/python3.6/dist-packages (from spacy>=2.1.0->neuralcoref) (2.0.3)\n",
            "Requirement already satisfied: wasabi<1.1.0,>=0.2.0 in /usr/local/lib/python3.6/dist-packages (from spacy>=2.1.0->neuralcoref) (0.7.1)\n",
            "Requirement already satisfied: jsonschema<3.0.0,>=2.6.0 in /usr/local/lib/python3.6/dist-packages (from spacy>=2.1.0->neuralcoref) (2.6.0)\n",
            "Requirement already satisfied: plac<1.0.0,>=0.9.6 in /usr/local/lib/python3.6/dist-packages (from spacy>=2.1.0->neuralcoref) (0.9.6)\n",
            "Requirement already satisfied: murmurhash<1.1.0,>=0.28.0 in /usr/local/lib/python3.6/dist-packages (from spacy>=2.1.0->neuralcoref) (1.0.2)\n",
            "Requirement already satisfied: thinc<7.1.0,>=7.0.2 in /usr/local/lib/python3.6/dist-packages (from spacy>=2.1.0->neuralcoref) (7.0.8)\n",
            "Requirement already satisfied: preshed<2.1.0,>=2.0.1 in /usr/local/lib/python3.6/dist-packages (from spacy>=2.1.0->neuralcoref) (2.0.1)\n",
            "Requirement already satisfied: blis<0.3.0,>=0.2.2 in /usr/local/lib/python3.6/dist-packages (from spacy>=2.1.0->neuralcoref) (0.2.4)\n",
            "Requirement already satisfied: urllib3!=1.25.0,!=1.25.1,<1.26,>=1.21.1 in /usr/local/lib/python3.6/dist-packages (from requests<3.0.0,>=2.13.0->neuralcoref) (1.24.3)\n",
            "Requirement already satisfied: chardet<4,>=3.0.2 in /usr/local/lib/python3.6/dist-packages (from requests<3.0.0,>=2.13.0->neuralcoref) (3.0.4)\n",
            "Requirement already satisfied: idna<3,>=2.5 in /usr/local/lib/python3.6/dist-packages (from requests<3.0.0,>=2.13.0->neuralcoref) (2.10)\n",
            "Requirement already satisfied: certifi>=2017.4.17 in /usr/local/lib/python3.6/dist-packages (from requests<3.0.0,>=2.13.0->neuralcoref) (2020.6.20)\n",
            "Requirement already satisfied: jmespath<1.0.0,>=0.7.1 in /usr/local/lib/python3.6/dist-packages (from boto3->neuralcoref) (0.10.0)\n",
            "Requirement already satisfied: botocore<1.18.0,>=1.17.48 in /usr/local/lib/python3.6/dist-packages (from boto3->neuralcoref) (1.17.48)\n",
            "Requirement already satisfied: s3transfer<0.4.0,>=0.3.0 in /usr/local/lib/python3.6/dist-packages (from boto3->neuralcoref) (0.3.3)\n",
            "Requirement already satisfied: tqdm<5.0.0,>=4.10.0 in /usr/local/lib/python3.6/dist-packages (from thinc<7.1.0,>=7.0.2->spacy>=2.1.0->neuralcoref) (4.41.1)\n",
            "Requirement already satisfied: docutils<0.16,>=0.10 in /usr/local/lib/python3.6/dist-packages (from botocore<1.18.0,>=1.17.48->boto3->neuralcoref) (0.15.2)\n",
            "Requirement already satisfied: python-dateutil<3.0.0,>=2.1 in /usr/local/lib/python3.6/dist-packages (from botocore<1.18.0,>=1.17.48->boto3->neuralcoref) (2.8.1)\n",
            "Requirement already satisfied: six>=1.5 in /usr/local/lib/python3.6/dist-packages (from python-dateutil<3.0.0,>=2.1->botocore<1.18.0,>=1.17.48->boto3->neuralcoref) (1.15.0)\n",
            "Installing collected packages: neuralcoref\n",
            "Successfully installed neuralcoref-4.0\n"
          ],
          "name": "stdout"
        }
      ]
    },
    {
      "cell_type": "code",
      "metadata": {
        "id": "PTkySZmuZrlZ",
        "colab_type": "code",
        "colab": {
          "base_uri": "https://localhost:8080/",
          "height": 221
        },
        "outputId": "8f835eab-91f0-472e-e8a8-f44183872b9e"
      },
      "source": [
        "\n",
        "! python -m spacy download en_core_web_md"
      ],
      "execution_count": 5,
      "outputs": [
        {
          "output_type": "stream",
          "text": [
            "Collecting en_core_web_md==2.1.0\n",
            "\u001b[?25l  Downloading https://github.com/explosion/spacy-models/releases/download/en_core_web_md-2.1.0/en_core_web_md-2.1.0.tar.gz (95.4MB)\n",
            "\u001b[K     |████████████████████████████████| 95.4MB 1.3MB/s \n",
            "\u001b[?25hBuilding wheels for collected packages: en-core-web-md\n",
            "  Building wheel for en-core-web-md (setup.py) ... \u001b[?25l\u001b[?25hdone\n",
            "  Created wheel for en-core-web-md: filename=en_core_web_md-2.1.0-cp36-none-any.whl size=97126236 sha256=e8f45ea5177919399d0e085c703b6ebfe46f0cfc07d657cf677c549f11d65626\n",
            "  Stored in directory: /tmp/pip-ephem-wheel-cache-q5hpot40/wheels/c1/2c/5f/fd7f3ec336bf97b0809c86264d2831c5dfb00fc2e239d1bb01\n",
            "Successfully built en-core-web-md\n",
            "Installing collected packages: en-core-web-md\n",
            "Successfully installed en-core-web-md-2.1.0\n",
            "\u001b[38;5;2m✔ Download and installation successful\u001b[0m\n",
            "You can now load the model via spacy.load('en_core_web_md')\n"
          ],
          "name": "stdout"
        }
      ]
    },
    {
      "cell_type": "code",
      "metadata": {
        "id": "rrFJAY0watA5",
        "colab_type": "code",
        "colab": {}
      },
      "source": [
        "from summarizer import Summarizer"
      ],
      "execution_count": null,
      "outputs": []
    },
    {
      "cell_type": "code",
      "metadata": {
        "id": "hronT1K8Zv0J",
        "colab_type": "code",
        "colab": {
          "base_uri": "https://localhost:8080/",
          "height": 34
        },
        "outputId": "346acd64-29ff-4594-8bc6-7b07104dd886"
      },
      "source": [
        "\n",
        "\n",
        "body = '''\n",
        " \n",
        "\n",
        "The Department of Medical and Clinical Psychology of the Tilburg School of Social and Behavioral Sciences (TSB), Tilburg University, is looking for a junior researcher. \n",
        "The commencement date is preferably 1 November 2020.  \n",
        "\n",
        " \n",
        "\n",
        "Job description\n",
        "The position will be embedded in the department of Medical and Clinical Psychology (MKP) of Tilburg School of Social and Behavioral Sciences (TSB) of Tilburg University. \n",
        "\n",
        " \n",
        "\n",
        "Project title\n",
        "“Mind the Gap”  \n",
        "\n",
        " \n",
        "\n",
        "Project description\n",
        "The project concerns a collaboration between the Orthopedics department of the Elisabeth-Tweesteden Hospital (ETZ) and the Medical and Clinical Psychology (MKP) department. The project aims to improve shared decision-making and doctor-patient communication. \n",
        "\n",
        " \n",
        "\n",
        "The project will partly take place at the Orthopedics outpatient clinic of the Elisabeth-Tweesteden Hospital (locations: ETZ Elisabeth and ETZ Tweesteden).\n",
        "\n",
        " \n",
        "\n",
        "Job description\n",
        "As a junior researcher you will be involved in:\n",
        "\n",
        "Collecting (qualitative) research data, including making sound and video recordings of conversations between orthopedic surgeons and patients with osteoarthritis and interviewing both as a result of the initial consultation\n",
        "Analyzing the collected data and subsequently presenting it in scientific articles and presentations at (inter) national conferences\n",
        "Advising on the implementation of the results found in treatment practice.\n",
        " \n",
        "Job requirements\n",
        "\n",
        "You are in possession of a master's degree in Social Sciences, such as Psychology (medical or clinical psychology), a research master or a master in the field of Communication (focused on health communication).\n",
        "You have an affinity with the topics of physician-patient communication and shared decision-making.\n",
        "You are conscientious, independent, proactive, ambitious and can function well under time pressure.\n",
        "You have self-confidence and a large dose of perseverance.\n",
        "You are social, communicative, relationship-oriented and can work well with others.\n",
        "You have very good oral and written communication skills in Dutch and English.\n",
        "You have demonstrable experience with qualitative (discourse and / or conversation analysis) and quantitative research methods and data analysis programs, such as Atlas.ti, EXMARaLDA, FaceReader and SPSS.\n",
        " \n",
        "\n",
        "Employment conditions\n",
        "Tilburg University has a good package of employment conditions. This concerns a temporary appointment for 15 months, 0.8 FTE in the UFO profile of researcher 4. The salary at the start of the employment is € 2,790 (scale 10) for a full-time appointment. \n",
        "\n",
        " \n",
        "\n",
        "Information and application\n",
        "For more substantive information, please contact Dr Brenda den Oudsten, (email: BLdenOudsten@tilburguniversity.edu ). For an explanation by telephone by Dr Den Oudsten, you can make an appointment via the secretary (s.diesbergen@tilburguniversity.edu). More information about Tilburg University can be found at: www.tilburguniversity.edu . \n",
        "You can send in your application, including your CV, publication list, and motivation letter until September 27 at the latest. \n",
        "\n",
        " \n",
        "\n",
        "General information about the working environment:\n",
        "\n",
        "Tilburg School of Social and Behavioral Sciences\n",
        "The education and research of the Tilburg School of Social and Behavioral Sciences (TSB) are organized around the themes of Health, Organization and the relationship between state-citizen-society. With an inspiring working environment, the faculty challenges its employees to realize their ambitions. Involvement and cooperation are important starting points. \n",
        "\n",
        "Tilburg School of Social and Behavioral Sciences\n",
        "\n",
        " \n",
        "\n",
        "Department of Medical and Clinical Psychology\n",
        "The research of the Department of Medical and Clinical Psychology is aimed at describing and explaining changes in children, adults and the elderly over time as a result of somatic or psychological disorders. These changes may partly depend on individual differences. The research method varies from more fundamental laboratory research to cohort studies and longitudinal research.\n",
        "\n",
        "\n",
        "Application code\n",
        "Tilburg University uses the  NVP application code  of the Dutch Association for Personnel Management & Organizational Development .\n",
        "\n",
        " \n",
        "\n",
        "Disclaimer\n",
        "\n",
        "T he text in this job advertisement is copyright protected property of Tilburg University. Use, distribution and further disclosure of the advertisement without explicit permission from Tilburg University is not permitted and this explicitly applies to use by recruitment and selection agencies that do not act directly on behalf of Tilburg University. Responses to recruitment by non-contractors of Tilburg University will not be processed.\n",
        "'''\n",
        "\n",
        "print(len(body.split()))\n"
      ],
      "execution_count": 13,
      "outputs": [
        {
          "output_type": "stream",
          "text": [
            "635\n"
          ],
          "name": "stdout"
        }
      ]
    },
    {
      "cell_type": "markdown",
      "metadata": {
        "id": "Iiy6kekjdwET",
        "colab_type": "text"
      },
      "source": [
        "'''\n",
        "\n",
        "### Summarizer params:\n",
        "- model: This gets used by the hugging face bert library to load the model, you can supply a custom trained model here\n",
        "- custom_model: If you have a pre-trained model, you can add the model class here.\n",
        "- custom_tokenizer:  If you have a custom tokenizer, you can add the tokenizer here.\n",
        "- hidden: Needs to be negative, but allows you to pick which layer you want the embeddings to come from.\n",
        "- reduce_option: It can be 'mean', 'median', or 'max'. This reduces the embedding layer for pooling.\n",
        "- sentence_handler: The handler to process sentences. If want to use coreference, instantiate and pass CoreferenceHandler instance\n",
        "\n",
        "\n"
      ]
    },
    {
      "cell_type": "code",
      "metadata": {
        "id": "xS6UZjawaqLH",
        "colab_type": "code",
        "colab": {
          "base_uri": "https://localhost:8080/",
          "height": 139
        },
        "outputId": "a24424b9-efc9-4e66-9483-0b1a29e1e7f5"
      },
      "source": [
        "model = Summarizer()\n"
      ],
      "execution_count": 8,
      "outputs": [
        {
          "output_type": "stream",
          "text": [
            "The Department of Medical and Clinical Psychology of the Tilburg School of Social and Behavioral Sciences (TSB), Tilburg University, is looking for a junior researcher. You have an affinity with the topics of physician-patient communication and shared decision-making. You are conscientious, independent, proactive, ambitious and can function well under time pressure. Employment conditions\n",
            "Tilburg University has a good package of employment conditions. Information and application\n",
            "For more substantive information, please contact Dr Brenda den Oudsten, (email: BLdenOudsten@tilburguniversity.edu ). General information about the working environment:\n",
            "\n",
            "Tilburg School of Social and Behavioral Sciences\n",
            "The education and research of the Tilburg School of Social and Behavioral Sciences (TSB) are organized around the themes of Health, Organization and the relationship between state-citizen-society.\n"
          ],
          "name": "stdout"
        }
      ]
    },
    {
      "cell_type": "markdown",
      "metadata": {
        "id": "fQixJNxAekaT",
        "colab_type": "text"
      },
      "source": [
        "### Model params:\n",
        "- body: str # The string body that you want to summarize\n",
        "- ratio: float # The ratio of sentences that you want for the final summary\n",
        "- min_length: int # Parameter to specify to remove sentences that are less than 40 characters\n",
        "- max_length: int # Parameter to specify to remove sentences greater than the max length,\n",
        "- num_sentences: Number of sentences to use. Overrides ratio if supplied.\n",
        "\n"
      ]
    },
    {
      "cell_type": "code",
      "metadata": {
        "id": "WLUCHkU2ensI",
        "colab_type": "code",
        "colab": {}
      },
      "source": [
        "result = model(body, min_length=60)\n"
      ],
      "execution_count": null,
      "outputs": []
    },
    {
      "cell_type": "code",
      "metadata": {
        "id": "i5dkpGqyepRL",
        "colab_type": "code",
        "colab": {}
      },
      "source": [
        "full = ''.join(result)\n",
        "print(full)"
      ],
      "execution_count": null,
      "outputs": []
    },
    {
      "cell_type": "code",
      "metadata": {
        "id": "UT3Xu6oqe0M0",
        "colab_type": "code",
        "colab": {}
      },
      "source": [
        ""
      ],
      "execution_count": null,
      "outputs": []
    },
    {
      "cell_type": "code",
      "metadata": {
        "id": "VeQos9ooaJJ6",
        "colab_type": "code",
        "colab": {
          "base_uri": "https://localhost:8080/",
          "height": 207
        },
        "outputId": "d31b92fe-e9f8-417b-e179-2f2014cd89ae"
      },
      "source": [
        "result = model(body, ratio=0.6)\n",
        "full = ''.join(result)\n",
        "print(full)\n"
      ],
      "execution_count": 11,
      "outputs": [
        {
          "output_type": "stream",
          "text": [
            "The Department of Medical and Clinical Psychology of the Tilburg School of Social and Behavioral Sciences (TSB), Tilburg University, is looking for a junior researcher. The commencement date is preferably 1 November 2020. You have an affinity with the topics of physician-patient communication and shared decision-making. You are conscientious, independent, proactive, ambitious and can function well under time pressure. You have self-confidence and a large dose of perseverance. You are social, communicative, relationship-oriented and can work well with others. You have very good oral and written communication skills in Dutch and English. Employment conditions\n",
            "Tilburg University has a good package of employment conditions. The salary at the start of the employment is € 2,790 (scale 10) for a full-time appointment. Information and application\n",
            "For more substantive information, please contact Dr Brenda den Oudsten, (email: BLdenOudsten@tilburguniversity.edu ). More information about Tilburg University can be found at: www.tilburguniversity.edu . You can send in your application, including your CV, publication list, and motivation letter until September 27 at the latest. With an inspiring working environment, the faculty challenges its employees to realize their ambitions. Involvement and cooperation are important starting points. Tilburg School of Social and Behavioral Sciences\n",
            "\n",
            " \n",
            "\n",
            "Department of Medical and Clinical Psychology\n",
            "The research of the Department of Medical and Clinical Psychology is aimed at describing and explaining changes in children, adults and the elderly over time as a result of somatic or psychological disorders. These changes may partly depend on individual differences. The research method varies from more fundamental laboratory research to cohort studies and longitudinal research. Disclaimer\n",
            "\n",
            "T he text in this job advertisement is copyright protected property of Tilburg University.\n"
          ],
          "name": "stdout"
        }
      ]
    },
    {
      "cell_type": "code",
      "metadata": {
        "id": "ARLMHdDFb3HR",
        "colab_type": "code",
        "colab": {
          "base_uri": "https://localhost:8080/",
          "height": 34
        },
        "outputId": "343a4f04-e6b7-478c-fbb7-956db42f1fda"
      },
      "source": [
        "print(len(full.split()))"
      ],
      "execution_count": 12,
      "outputs": [
        {
          "output_type": "stream",
          "text": [
            "272\n"
          ],
          "name": "stdout"
        }
      ]
    },
    {
      "cell_type": "code",
      "metadata": {
        "id": "jBRGrC22bX5x",
        "colab_type": "code",
        "colab": {
          "base_uri": "https://localhost:8080/",
          "height": 190
        },
        "outputId": "67170704-932e-4544-83cd-06c56e6fb259"
      },
      "source": [
        "result = model(body, num_sentences=8)\n",
        "full = ''.join(result)\n",
        "print(full)"
      ],
      "execution_count": 9,
      "outputs": [
        {
          "output_type": "stream",
          "text": [
            "The Department of Medical and Clinical Psychology of the Tilburg School of Social and Behavioral Sciences (TSB), Tilburg University, is looking for a junior researcher. The commencement date is preferably 1 November 2020. You are conscientious, independent, proactive, ambitious and can function well under time pressure. You have self-confidence and a large dose of perseverance. You have very good oral and written communication skills in Dutch and English. For an explanation by telephone by Dr Den Oudsten, you can make an appointment via the secretary (s.diesbergen@tilburguniversity.edu). General information about the working environment:\n",
            "\n",
            "Tilburg School of Social and Behavioral Sciences\n",
            "The education and research of the Tilburg School of Social and Behavioral Sciences (TSB) are organized around the themes of Health, Organization and the relationship between state-citizen-society. Involvement and cooperation are important starting points. Tilburg School of Social and Behavioral Sciences\n",
            "\n",
            " \n",
            "\n",
            "Department of Medical and Clinical Psychology\n",
            "The research of the Department of Medical and Clinical Psychology is aimed at describing and explaining changes in children, adults and the elderly over time as a result of somatic or psychological disorders.\n"
          ],
          "name": "stdout"
        }
      ]
    },
    {
      "cell_type": "code",
      "metadata": {
        "id": "4Vn_mZiHdJs_",
        "colab_type": "code",
        "colab": {}
      },
      "source": [
        ""
      ],
      "execution_count": null,
      "outputs": []
    }
  ]
}